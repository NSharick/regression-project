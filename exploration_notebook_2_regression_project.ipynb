{
 "cells": [
  {
   "cell_type": "code",
   "execution_count": 1,
   "id": "deb7d50e",
   "metadata": {},
   "outputs": [],
   "source": [
    "import numpy as np\n",
    "import pandas as pd\n",
    "import matplotlib.pyplot as plt\n",
    "import seaborn as sns\n",
    "from sklearn.model_selection import train_test_split\n",
    "from sklearn.preprocessing import MinMaxScaler\n",
    "from sklearn.feature_selection import RFE\n",
    "from sklearn.metrics import mean_squared_error\n",
    "from sklearn.linear_model import LinearRegression\n",
    "from sklearn.preprocessing import PolynomialFeatures\n",
    "from sklearn.feature_selection import f_regression, SelectKBest, RFE\n",
    "\n",
    "import warnings\n",
    "warnings.filterwarnings('ignore')\n",
    "\n",
    "from acquire import acquire_zillow"
   ]
  },
  {
   "cell_type": "code",
   "execution_count": null,
   "id": "5314e5c1",
   "metadata": {},
   "outputs": [],
   "source": [
    "def acquire_zillow():\n",
    "    '''\n",
    "    This function checks for a copy of the dataset in the local directory \n",
    "    and pulls a new copy and saves it if there is not one,\n",
    "    it then cleans the data by removing significant outliers then\n",
    "    removing the rows with null values for 'yearbuilt'\n",
    "    '''\n",
    "    #assign the file name\n",
    "    filename = 'zillow.csv'\n",
    "    #check if the file exists in the current directory and read it if it is\n",
    "    if os.path.exists(filename):\n",
    "        print('Reading from csv file...')\n",
    "        #read the local .csv into the notebook\n",
    "        df = pd.read_csv(filename)\n",
    "        return df\n",
    "    #assign the sql query to a variable for use in pulling a new copy of the dataset from the database\n",
    "    query = '''\n",
    "    SELECT pro.bedroomcnt, pro.bathroomcnt, pro.calculatedfinishedsquarefeet, \n",
    "    pro.taxvaluedollarcnt, pro.yearbuilt, pro.fips, pro.lotsizesquarefeet, pro.numberofstories, \n",
    "    \n",
    "    FROM properties_2017 AS pro\n",
    "    JOIN predictions_2017 AS pre USING(parcelid)\n",
    "    WHERE pro.propertylandusetypeid = 261\n",
    "    '''\n",
    "    #if needed pull a fresh copy of the dataset from the database\n",
    "    print('Getting a fresh copy from SQL database...')\n",
    "    df = pd.read_sql(query, get_db_url('zillow'))\n",
    "    #save a copy of the dataset to the local directory as a .csv file\n",
    "    df.to_csv(filename, index=False)\n",
    "    return df"
   ]
  },
  {
   "cell_type": "code",
   "execution_count": null,
   "id": "0b94a92a",
   "metadata": {},
   "outputs": [],
   "source": []
  },
  {
   "cell_type": "code",
   "execution_count": null,
   "id": "e244eeed",
   "metadata": {},
   "outputs": [],
   "source": []
  }
 ],
 "metadata": {
  "kernelspec": {
   "display_name": "Python 3 (ipykernel)",
   "language": "python",
   "name": "python3"
  },
  "language_info": {
   "codemirror_mode": {
    "name": "ipython",
    "version": 3
   },
   "file_extension": ".py",
   "mimetype": "text/x-python",
   "name": "python",
   "nbconvert_exporter": "python",
   "pygments_lexer": "ipython3",
   "version": "3.9.7"
  }
 },
 "nbformat": 4,
 "nbformat_minor": 5
}
