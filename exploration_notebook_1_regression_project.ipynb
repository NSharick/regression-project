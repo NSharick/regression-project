{
 "cells": [
  {
   "cell_type": "code",
   "execution_count": 1,
   "id": "da2bc025",
   "metadata": {},
   "outputs": [],
   "source": [
    "import numpy as np\n",
    "import pandas as pd\n",
    "import matplotlib.pyplot as plt\n",
    "import seaborn as sns\n",
    "from sklearn.model_selection import train_test_split\n",
    "from sklearn.preprocessing import MinMaxScaler\n",
    "from sklearn.feature_selection import RFE\n",
    "from sklearn.metrics import mean_squared_error\n",
    "from sklearn.linear_model import LinearRegression\n",
    "from sklearn.preprocessing import PolynomialFeatures\n",
    "from sklearn.feature_selection import f_regression, SelectKBest, RFE\n",
    "\n",
    "import warnings\n",
    "warnings.filterwarnings('ignore')\n",
    "\n",
    "from acquire import acquire_zillow"
   ]
  },
  {
   "cell_type": "code",
   "execution_count": 2,
   "id": "9c11a0ee",
   "metadata": {},
   "outputs": [
    {
     "name": "stdout",
     "output_type": "stream",
     "text": [
      "Reading from csv file...\n"
     ]
    },
    {
     "data": {
      "text/html": [
       "<div>\n",
       "<style scoped>\n",
       "    .dataframe tbody tr th:only-of-type {\n",
       "        vertical-align: middle;\n",
       "    }\n",
       "\n",
       "    .dataframe tbody tr th {\n",
       "        vertical-align: top;\n",
       "    }\n",
       "\n",
       "    .dataframe thead th {\n",
       "        text-align: right;\n",
       "    }\n",
       "</style>\n",
       "<table border=\"1\" class=\"dataframe\">\n",
       "  <thead>\n",
       "    <tr style=\"text-align: right;\">\n",
       "      <th></th>\n",
       "      <th>bedroomcnt</th>\n",
       "      <th>bathroomcnt</th>\n",
       "      <th>calculatedfinishedsquarefeet</th>\n",
       "      <th>taxvaluedollarcnt</th>\n",
       "      <th>yearbuilt</th>\n",
       "      <th>fips</th>\n",
       "    </tr>\n",
       "  </thead>\n",
       "  <tbody>\n",
       "    <tr>\n",
       "      <th>0</th>\n",
       "      <td>4.0</td>\n",
       "      <td>3.5</td>\n",
       "      <td>3100.0</td>\n",
       "      <td>1023282.0</td>\n",
       "      <td>1998.0</td>\n",
       "      <td>6059.0</td>\n",
       "    </tr>\n",
       "    <tr>\n",
       "      <th>1</th>\n",
       "      <td>2.0</td>\n",
       "      <td>1.0</td>\n",
       "      <td>1465.0</td>\n",
       "      <td>464000.0</td>\n",
       "      <td>1967.0</td>\n",
       "      <td>6111.0</td>\n",
       "    </tr>\n",
       "    <tr>\n",
       "      <th>2</th>\n",
       "      <td>3.0</td>\n",
       "      <td>2.0</td>\n",
       "      <td>1243.0</td>\n",
       "      <td>564778.0</td>\n",
       "      <td>1962.0</td>\n",
       "      <td>6059.0</td>\n",
       "    </tr>\n",
       "    <tr>\n",
       "      <th>3</th>\n",
       "      <td>4.0</td>\n",
       "      <td>3.0</td>\n",
       "      <td>2376.0</td>\n",
       "      <td>145143.0</td>\n",
       "      <td>1970.0</td>\n",
       "      <td>6037.0</td>\n",
       "    </tr>\n",
       "    <tr>\n",
       "      <th>4</th>\n",
       "      <td>4.0</td>\n",
       "      <td>3.0</td>\n",
       "      <td>2962.0</td>\n",
       "      <td>773303.0</td>\n",
       "      <td>1950.0</td>\n",
       "      <td>6037.0</td>\n",
       "    </tr>\n",
       "  </tbody>\n",
       "</table>\n",
       "</div>"
      ],
      "text/plain": [
       "   bedroomcnt  bathroomcnt  calculatedfinishedsquarefeet  taxvaluedollarcnt  \\\n",
       "0         4.0          3.5                        3100.0          1023282.0   \n",
       "1         2.0          1.0                        1465.0           464000.0   \n",
       "2         3.0          2.0                        1243.0           564778.0   \n",
       "3         4.0          3.0                        2376.0           145143.0   \n",
       "4         4.0          3.0                        2962.0           773303.0   \n",
       "\n",
       "   yearbuilt    fips  \n",
       "0     1998.0  6059.0  \n",
       "1     1967.0  6111.0  \n",
       "2     1962.0  6059.0  \n",
       "3     1970.0  6037.0  \n",
       "4     1950.0  6037.0  "
      ]
     },
     "execution_count": 2,
     "metadata": {},
     "output_type": "execute_result"
    }
   ],
   "source": [
    "df = acquire_zillow()\n",
    "df.head()"
   ]
  },
  {
   "cell_type": "code",
   "execution_count": 3,
   "id": "924c6479",
   "metadata": {},
   "outputs": [
    {
     "data": {
      "text/plain": [
       "(52442, 6)"
      ]
     },
     "execution_count": 3,
     "metadata": {},
     "output_type": "execute_result"
    }
   ],
   "source": [
    "df.shape"
   ]
  },
  {
   "cell_type": "code",
   "execution_count": 4,
   "id": "abc21e1e",
   "metadata": {},
   "outputs": [
    {
     "name": "stdout",
     "output_type": "stream",
     "text": [
      "<class 'pandas.core.frame.DataFrame'>\n",
      "RangeIndex: 52442 entries, 0 to 52441\n",
      "Data columns (total 6 columns):\n",
      " #   Column                        Non-Null Count  Dtype  \n",
      "---  ------                        --------------  -----  \n",
      " 0   bedroomcnt                    52442 non-null  float64\n",
      " 1   bathroomcnt                   52442 non-null  float64\n",
      " 2   calculatedfinishedsquarefeet  52360 non-null  float64\n",
      " 3   taxvaluedollarcnt             52441 non-null  float64\n",
      " 4   yearbuilt                     52326 non-null  float64\n",
      " 5   fips                          52442 non-null  float64\n",
      "dtypes: float64(6)\n",
      "memory usage: 2.4 MB\n"
     ]
    }
   ],
   "source": [
    "df.info(null_counts=True)"
   ]
  },
  {
   "cell_type": "code",
   "execution_count": 5,
   "id": "86515fcd",
   "metadata": {},
   "outputs": [
    {
     "data": {
      "text/plain": [
       "bedroomcnt                        0\n",
       "bathroomcnt                       0\n",
       "calculatedfinishedsquarefeet     82\n",
       "taxvaluedollarcnt                 1\n",
       "yearbuilt                       116\n",
       "fips                              0\n",
       "dtype: int64"
      ]
     },
     "execution_count": 5,
     "metadata": {},
     "output_type": "execute_result"
    }
   ],
   "source": [
    "df.isnull().sum()"
   ]
  },
  {
   "cell_type": "code",
   "execution_count": 6,
   "id": "dcd308b2",
   "metadata": {},
   "outputs": [
    {
     "data": {
      "text/html": [
       "<div>\n",
       "<style scoped>\n",
       "    .dataframe tbody tr th:only-of-type {\n",
       "        vertical-align: middle;\n",
       "    }\n",
       "\n",
       "    .dataframe tbody tr th {\n",
       "        vertical-align: top;\n",
       "    }\n",
       "\n",
       "    .dataframe thead th {\n",
       "        text-align: right;\n",
       "    }\n",
       "</style>\n",
       "<table border=\"1\" class=\"dataframe\">\n",
       "  <thead>\n",
       "    <tr style=\"text-align: right;\">\n",
       "      <th></th>\n",
       "      <th>bedroomcnt</th>\n",
       "      <th>bathroomcnt</th>\n",
       "      <th>calculatedfinishedsquarefeet</th>\n",
       "      <th>taxvaluedollarcnt</th>\n",
       "      <th>yearbuilt</th>\n",
       "      <th>fips</th>\n",
       "    </tr>\n",
       "  </thead>\n",
       "  <tbody>\n",
       "    <tr>\n",
       "      <th>count</th>\n",
       "      <td>52442.000000</td>\n",
       "      <td>52442.000000</td>\n",
       "      <td>52360.000000</td>\n",
       "      <td>5.244100e+04</td>\n",
       "      <td>52326.000000</td>\n",
       "      <td>52442.000000</td>\n",
       "    </tr>\n",
       "    <tr>\n",
       "      <th>mean</th>\n",
       "      <td>3.300675</td>\n",
       "      <td>2.299397</td>\n",
       "      <td>1922.874083</td>\n",
       "      <td>5.296830e+05</td>\n",
       "      <td>1963.393820</td>\n",
       "      <td>6049.131917</td>\n",
       "    </tr>\n",
       "    <tr>\n",
       "      <th>std</th>\n",
       "      <td>0.949086</td>\n",
       "      <td>1.022764</td>\n",
       "      <td>1004.363491</td>\n",
       "      <td>7.518883e+05</td>\n",
       "      <td>23.133355</td>\n",
       "      <td>21.028933</td>\n",
       "    </tr>\n",
       "    <tr>\n",
       "      <th>min</th>\n",
       "      <td>0.000000</td>\n",
       "      <td>0.000000</td>\n",
       "      <td>128.000000</td>\n",
       "      <td>1.000000e+03</td>\n",
       "      <td>1878.000000</td>\n",
       "      <td>6037.000000</td>\n",
       "    </tr>\n",
       "    <tr>\n",
       "      <th>25%</th>\n",
       "      <td>3.000000</td>\n",
       "      <td>2.000000</td>\n",
       "      <td>1268.000000</td>\n",
       "      <td>1.937500e+05</td>\n",
       "      <td>1950.000000</td>\n",
       "      <td>6037.000000</td>\n",
       "    </tr>\n",
       "    <tr>\n",
       "      <th>50%</th>\n",
       "      <td>3.000000</td>\n",
       "      <td>2.000000</td>\n",
       "      <td>1659.000000</td>\n",
       "      <td>3.736120e+05</td>\n",
       "      <td>1961.000000</td>\n",
       "      <td>6037.000000</td>\n",
       "    </tr>\n",
       "    <tr>\n",
       "      <th>75%</th>\n",
       "      <td>4.000000</td>\n",
       "      <td>3.000000</td>\n",
       "      <td>2306.000000</td>\n",
       "      <td>6.193010e+05</td>\n",
       "      <td>1979.000000</td>\n",
       "      <td>6059.000000</td>\n",
       "    </tr>\n",
       "    <tr>\n",
       "      <th>max</th>\n",
       "      <td>14.000000</td>\n",
       "      <td>18.000000</td>\n",
       "      <td>21929.000000</td>\n",
       "      <td>4.906124e+07</td>\n",
       "      <td>2016.000000</td>\n",
       "      <td>6111.000000</td>\n",
       "    </tr>\n",
       "  </tbody>\n",
       "</table>\n",
       "</div>"
      ],
      "text/plain": [
       "         bedroomcnt   bathroomcnt  calculatedfinishedsquarefeet  \\\n",
       "count  52442.000000  52442.000000                  52360.000000   \n",
       "mean       3.300675      2.299397                   1922.874083   \n",
       "std        0.949086      1.022764                   1004.363491   \n",
       "min        0.000000      0.000000                    128.000000   \n",
       "25%        3.000000      2.000000                   1268.000000   \n",
       "50%        3.000000      2.000000                   1659.000000   \n",
       "75%        4.000000      3.000000                   2306.000000   \n",
       "max       14.000000     18.000000                  21929.000000   \n",
       "\n",
       "       taxvaluedollarcnt     yearbuilt          fips  \n",
       "count       5.244100e+04  52326.000000  52442.000000  \n",
       "mean        5.296830e+05   1963.393820   6049.131917  \n",
       "std         7.518883e+05     23.133355     21.028933  \n",
       "min         1.000000e+03   1878.000000   6037.000000  \n",
       "25%         1.937500e+05   1950.000000   6037.000000  \n",
       "50%         3.736120e+05   1961.000000   6037.000000  \n",
       "75%         6.193010e+05   1979.000000   6059.000000  \n",
       "max         4.906124e+07   2016.000000   6111.000000  "
      ]
     },
     "execution_count": 6,
     "metadata": {},
     "output_type": "execute_result"
    }
   ],
   "source": [
    "df.describe()"
   ]
  },
  {
   "cell_type": "code",
   "execution_count": 7,
   "id": "cb19c9c1",
   "metadata": {},
   "outputs": [],
   "source": [
    "df = df.dropna()"
   ]
  },
  {
   "cell_type": "code",
   "execution_count": 8,
   "id": "6b096a12",
   "metadata": {},
   "outputs": [
    {
     "data": {
      "text/plain": [
       "bedroomcnt                      0\n",
       "bathroomcnt                     0\n",
       "calculatedfinishedsquarefeet    0\n",
       "taxvaluedollarcnt               0\n",
       "yearbuilt                       0\n",
       "fips                            0\n",
       "dtype: int64"
      ]
     },
     "execution_count": 8,
     "metadata": {},
     "output_type": "execute_result"
    }
   ],
   "source": [
    "df.isnull().sum()"
   ]
  },
  {
   "cell_type": "code",
   "execution_count": 9,
   "id": "4f6bcaae",
   "metadata": {},
   "outputs": [
    {
     "data": {
      "text/plain": [
       "(52320, 6)"
      ]
     },
     "execution_count": 9,
     "metadata": {},
     "output_type": "execute_result"
    }
   ],
   "source": [
    "df.shape"
   ]
  },
  {
   "cell_type": "code",
   "execution_count": 10,
   "id": "f9840622",
   "metadata": {},
   "outputs": [
    {
     "data": {
      "text/html": [
       "<div>\n",
       "<style scoped>\n",
       "    .dataframe tbody tr th:only-of-type {\n",
       "        vertical-align: middle;\n",
       "    }\n",
       "\n",
       "    .dataframe tbody tr th {\n",
       "        vertical-align: top;\n",
       "    }\n",
       "\n",
       "    .dataframe thead th {\n",
       "        text-align: right;\n",
       "    }\n",
       "</style>\n",
       "<table border=\"1\" class=\"dataframe\">\n",
       "  <thead>\n",
       "    <tr style=\"text-align: right;\">\n",
       "      <th></th>\n",
       "      <th>bedroomcnt</th>\n",
       "      <th>bathroomcnt</th>\n",
       "      <th>calculatedfinishedsquarefeet</th>\n",
       "      <th>taxvaluedollarcnt</th>\n",
       "      <th>yearbuilt</th>\n",
       "      <th>fips</th>\n",
       "    </tr>\n",
       "  </thead>\n",
       "  <tbody>\n",
       "    <tr>\n",
       "      <th>count</th>\n",
       "      <td>52320.000000</td>\n",
       "      <td>52320.000000</td>\n",
       "      <td>52320.000000</td>\n",
       "      <td>5.232000e+04</td>\n",
       "      <td>52320.000000</td>\n",
       "      <td>52320.000000</td>\n",
       "    </tr>\n",
       "    <tr>\n",
       "      <th>mean</th>\n",
       "      <td>3.305906</td>\n",
       "      <td>2.302781</td>\n",
       "      <td>1922.537309</td>\n",
       "      <td>5.280717e+05</td>\n",
       "      <td>1963.394438</td>\n",
       "      <td>6049.085168</td>\n",
       "    </tr>\n",
       "    <tr>\n",
       "      <th>std</th>\n",
       "      <td>0.940568</td>\n",
       "      <td>1.019058</td>\n",
       "      <td>1003.615675</td>\n",
       "      <td>7.484542e+05</td>\n",
       "      <td>23.133385</td>\n",
       "      <td>20.984528</td>\n",
       "    </tr>\n",
       "    <tr>\n",
       "      <th>min</th>\n",
       "      <td>0.000000</td>\n",
       "      <td>0.000000</td>\n",
       "      <td>128.000000</td>\n",
       "      <td>1.000000e+03</td>\n",
       "      <td>1878.000000</td>\n",
       "      <td>6037.000000</td>\n",
       "    </tr>\n",
       "    <tr>\n",
       "      <th>25%</th>\n",
       "      <td>3.000000</td>\n",
       "      <td>2.000000</td>\n",
       "      <td>1268.000000</td>\n",
       "      <td>1.937155e+05</td>\n",
       "      <td>1950.000000</td>\n",
       "      <td>6037.000000</td>\n",
       "    </tr>\n",
       "    <tr>\n",
       "      <th>50%</th>\n",
       "      <td>3.000000</td>\n",
       "      <td>2.000000</td>\n",
       "      <td>1658.000000</td>\n",
       "      <td>3.733765e+05</td>\n",
       "      <td>1961.000000</td>\n",
       "      <td>6037.000000</td>\n",
       "    </tr>\n",
       "    <tr>\n",
       "      <th>75%</th>\n",
       "      <td>4.000000</td>\n",
       "      <td>3.000000</td>\n",
       "      <td>2305.000000</td>\n",
       "      <td>6.186230e+05</td>\n",
       "      <td>1979.000000</td>\n",
       "      <td>6059.000000</td>\n",
       "    </tr>\n",
       "    <tr>\n",
       "      <th>max</th>\n",
       "      <td>14.000000</td>\n",
       "      <td>18.000000</td>\n",
       "      <td>21929.000000</td>\n",
       "      <td>4.906124e+07</td>\n",
       "      <td>2016.000000</td>\n",
       "      <td>6111.000000</td>\n",
       "    </tr>\n",
       "  </tbody>\n",
       "</table>\n",
       "</div>"
      ],
      "text/plain": [
       "         bedroomcnt   bathroomcnt  calculatedfinishedsquarefeet  \\\n",
       "count  52320.000000  52320.000000                  52320.000000   \n",
       "mean       3.305906      2.302781                   1922.537309   \n",
       "std        0.940568      1.019058                   1003.615675   \n",
       "min        0.000000      0.000000                    128.000000   \n",
       "25%        3.000000      2.000000                   1268.000000   \n",
       "50%        3.000000      2.000000                   1658.000000   \n",
       "75%        4.000000      3.000000                   2305.000000   \n",
       "max       14.000000     18.000000                  21929.000000   \n",
       "\n",
       "       taxvaluedollarcnt     yearbuilt          fips  \n",
       "count       5.232000e+04  52320.000000  52320.000000  \n",
       "mean        5.280717e+05   1963.394438   6049.085168  \n",
       "std         7.484542e+05     23.133385     20.984528  \n",
       "min         1.000000e+03   1878.000000   6037.000000  \n",
       "25%         1.937155e+05   1950.000000   6037.000000  \n",
       "50%         3.733765e+05   1961.000000   6037.000000  \n",
       "75%         6.186230e+05   1979.000000   6059.000000  \n",
       "max         4.906124e+07   2016.000000   6111.000000  "
      ]
     },
     "execution_count": 10,
     "metadata": {},
     "output_type": "execute_result"
    }
   ],
   "source": [
    "df.describe()"
   ]
  },
  {
   "cell_type": "code",
   "execution_count": 11,
   "id": "4af05045",
   "metadata": {},
   "outputs": [
    {
     "data": {
      "text/plain": [
       "((29299, 6), (12557, 6), (10464, 6))"
      ]
     },
     "execution_count": 11,
     "metadata": {},
     "output_type": "execute_result"
    }
   ],
   "source": [
    "train_val, test = train_test_split(df, train_size = 0.8, random_state=123)\n",
    "train, validate = train_test_split(train_val, train_size = 0.7, random_state=123)\n",
    "train.shape, validate.shape, test.shape"
   ]
  },
  {
   "cell_type": "code",
   "execution_count": 12,
   "id": "d8933875",
   "metadata": {},
   "outputs": [
    {
     "data": {
      "text/html": [
       "<div>\n",
       "<style scoped>\n",
       "    .dataframe tbody tr th:only-of-type {\n",
       "        vertical-align: middle;\n",
       "    }\n",
       "\n",
       "    .dataframe tbody tr th {\n",
       "        vertical-align: top;\n",
       "    }\n",
       "\n",
       "    .dataframe thead th {\n",
       "        text-align: right;\n",
       "    }\n",
       "</style>\n",
       "<table border=\"1\" class=\"dataframe\">\n",
       "  <thead>\n",
       "    <tr style=\"text-align: right;\">\n",
       "      <th></th>\n",
       "      <th>bedroomcnt</th>\n",
       "      <th>bathroomcnt</th>\n",
       "      <th>calculatedfinishedsquarefeet</th>\n",
       "      <th>taxvaluedollarcnt</th>\n",
       "      <th>yearbuilt</th>\n",
       "      <th>fips</th>\n",
       "    </tr>\n",
       "  </thead>\n",
       "  <tbody>\n",
       "    <tr>\n",
       "      <th>8251</th>\n",
       "      <td>4.0</td>\n",
       "      <td>2.0</td>\n",
       "      <td>2226.0</td>\n",
       "      <td>594178.0</td>\n",
       "      <td>1969.0</td>\n",
       "      <td>6111.0</td>\n",
       "    </tr>\n",
       "    <tr>\n",
       "      <th>32319</th>\n",
       "      <td>4.0</td>\n",
       "      <td>4.5</td>\n",
       "      <td>6888.0</td>\n",
       "      <td>11317682.0</td>\n",
       "      <td>2010.0</td>\n",
       "      <td>6059.0</td>\n",
       "    </tr>\n",
       "    <tr>\n",
       "      <th>42134</th>\n",
       "      <td>3.0</td>\n",
       "      <td>2.0</td>\n",
       "      <td>1882.0</td>\n",
       "      <td>540822.0</td>\n",
       "      <td>2002.0</td>\n",
       "      <td>6059.0</td>\n",
       "    </tr>\n",
       "    <tr>\n",
       "      <th>44913</th>\n",
       "      <td>4.0</td>\n",
       "      <td>2.0</td>\n",
       "      <td>1575.0</td>\n",
       "      <td>70231.0</td>\n",
       "      <td>1971.0</td>\n",
       "      <td>6059.0</td>\n",
       "    </tr>\n",
       "    <tr>\n",
       "      <th>34101</th>\n",
       "      <td>4.0</td>\n",
       "      <td>1.5</td>\n",
       "      <td>1902.0</td>\n",
       "      <td>1049750.0</td>\n",
       "      <td>1954.0</td>\n",
       "      <td>6059.0</td>\n",
       "    </tr>\n",
       "  </tbody>\n",
       "</table>\n",
       "</div>"
      ],
      "text/plain": [
       "       bedroomcnt  bathroomcnt  calculatedfinishedsquarefeet  \\\n",
       "8251          4.0          2.0                        2226.0   \n",
       "32319         4.0          4.5                        6888.0   \n",
       "42134         3.0          2.0                        1882.0   \n",
       "44913         4.0          2.0                        1575.0   \n",
       "34101         4.0          1.5                        1902.0   \n",
       "\n",
       "       taxvaluedollarcnt  yearbuilt    fips  \n",
       "8251            594178.0     1969.0  6111.0  \n",
       "32319         11317682.0     2010.0  6059.0  \n",
       "42134           540822.0     2002.0  6059.0  \n",
       "44913            70231.0     1971.0  6059.0  \n",
       "34101          1049750.0     1954.0  6059.0  "
      ]
     },
     "execution_count": 12,
     "metadata": {},
     "output_type": "execute_result"
    }
   ],
   "source": [
    "train.head()"
   ]
  },
  {
   "cell_type": "code",
   "execution_count": 13,
   "id": "bd3c4c59",
   "metadata": {},
   "outputs": [
    {
     "data": {
      "text/html": [
       "<div>\n",
       "<style scoped>\n",
       "    .dataframe tbody tr th:only-of-type {\n",
       "        vertical-align: middle;\n",
       "    }\n",
       "\n",
       "    .dataframe tbody tr th {\n",
       "        vertical-align: top;\n",
       "    }\n",
       "\n",
       "    .dataframe thead th {\n",
       "        text-align: right;\n",
       "    }\n",
       "</style>\n",
       "<table border=\"1\" class=\"dataframe\">\n",
       "  <thead>\n",
       "    <tr style=\"text-align: right;\">\n",
       "      <th></th>\n",
       "      <th>bedroomcnt</th>\n",
       "      <th>bathroomcnt</th>\n",
       "      <th>calculatedfinishedsquarefeet</th>\n",
       "      <th>taxvaluedollarcnt</th>\n",
       "      <th>yearbuilt</th>\n",
       "      <th>fips</th>\n",
       "    </tr>\n",
       "  </thead>\n",
       "  <tbody>\n",
       "    <tr>\n",
       "      <th>count</th>\n",
       "      <td>29299.000000</td>\n",
       "      <td>29299.000000</td>\n",
       "      <td>29299.000000</td>\n",
       "      <td>2.929900e+04</td>\n",
       "      <td>29299.000000</td>\n",
       "      <td>29299.000000</td>\n",
       "    </tr>\n",
       "    <tr>\n",
       "      <th>mean</th>\n",
       "      <td>3.303492</td>\n",
       "      <td>2.301256</td>\n",
       "      <td>1922.406499</td>\n",
       "      <td>5.293537e+05</td>\n",
       "      <td>1963.466398</td>\n",
       "      <td>6049.094884</td>\n",
       "    </tr>\n",
       "    <tr>\n",
       "      <th>std</th>\n",
       "      <td>0.940538</td>\n",
       "      <td>1.022850</td>\n",
       "      <td>1012.166980</td>\n",
       "      <td>7.733904e+05</td>\n",
       "      <td>23.072141</td>\n",
       "      <td>20.985860</td>\n",
       "    </tr>\n",
       "    <tr>\n",
       "      <th>min</th>\n",
       "      <td>0.000000</td>\n",
       "      <td>0.000000</td>\n",
       "      <td>152.000000</td>\n",
       "      <td>1.000000e+03</td>\n",
       "      <td>1880.000000</td>\n",
       "      <td>6037.000000</td>\n",
       "    </tr>\n",
       "    <tr>\n",
       "      <th>25%</th>\n",
       "      <td>3.000000</td>\n",
       "      <td>2.000000</td>\n",
       "      <td>1265.500000</td>\n",
       "      <td>1.925995e+05</td>\n",
       "      <td>1950.000000</td>\n",
       "      <td>6037.000000</td>\n",
       "    </tr>\n",
       "    <tr>\n",
       "      <th>50%</th>\n",
       "      <td>3.000000</td>\n",
       "      <td>2.000000</td>\n",
       "      <td>1655.000000</td>\n",
       "      <td>3.729720e+05</td>\n",
       "      <td>1961.000000</td>\n",
       "      <td>6037.000000</td>\n",
       "    </tr>\n",
       "    <tr>\n",
       "      <th>75%</th>\n",
       "      <td>4.000000</td>\n",
       "      <td>3.000000</td>\n",
       "      <td>2302.000000</td>\n",
       "      <td>6.148450e+05</td>\n",
       "      <td>1979.000000</td>\n",
       "      <td>6059.000000</td>\n",
       "    </tr>\n",
       "    <tr>\n",
       "      <th>max</th>\n",
       "      <td>14.000000</td>\n",
       "      <td>18.000000</td>\n",
       "      <td>21929.000000</td>\n",
       "      <td>4.906124e+07</td>\n",
       "      <td>2016.000000</td>\n",
       "      <td>6111.000000</td>\n",
       "    </tr>\n",
       "  </tbody>\n",
       "</table>\n",
       "</div>"
      ],
      "text/plain": [
       "         bedroomcnt   bathroomcnt  calculatedfinishedsquarefeet  \\\n",
       "count  29299.000000  29299.000000                  29299.000000   \n",
       "mean       3.303492      2.301256                   1922.406499   \n",
       "std        0.940538      1.022850                   1012.166980   \n",
       "min        0.000000      0.000000                    152.000000   \n",
       "25%        3.000000      2.000000                   1265.500000   \n",
       "50%        3.000000      2.000000                   1655.000000   \n",
       "75%        4.000000      3.000000                   2302.000000   \n",
       "max       14.000000     18.000000                  21929.000000   \n",
       "\n",
       "       taxvaluedollarcnt     yearbuilt          fips  \n",
       "count       2.929900e+04  29299.000000  29299.000000  \n",
       "mean        5.293537e+05   1963.466398   6049.094884  \n",
       "std         7.733904e+05     23.072141     20.985860  \n",
       "min         1.000000e+03   1880.000000   6037.000000  \n",
       "25%         1.925995e+05   1950.000000   6037.000000  \n",
       "50%         3.729720e+05   1961.000000   6037.000000  \n",
       "75%         6.148450e+05   1979.000000   6059.000000  \n",
       "max         4.906124e+07   2016.000000   6111.000000  "
      ]
     },
     "execution_count": 13,
     "metadata": {},
     "output_type": "execute_result"
    }
   ],
   "source": [
    "train.describe()"
   ]
  },
  {
   "cell_type": "code",
   "execution_count": 14,
   "id": "8ecd20bb",
   "metadata": {},
   "outputs": [],
   "source": [
    "def remove_outliers(df, k, col_list):\n",
    "    ''' this function will remove outliers from a list of columns in a dataframe \n",
    "        and return that dataframe. A list of columns with significant outliers is \n",
    "        assigned to a variable in the below wrangle function and can be modified if needed\n",
    "    '''\n",
    "    #loop throught the columns in the list\n",
    "    for col in col_list:\n",
    "        q1, q3 = df[col].quantile([.25, .75])  # get quartiles\n",
    "        iqr = q3 - q1   # calculate interquartile range\n",
    "        upper_bound = q3 + k * iqr   # get upper bound\n",
    "        lower_bound = q1 - k * iqr   # get lower bound\n",
    "        # return dataframe without outliers\n",
    "        df = df[(df[col] > lower_bound) & (df[col] < upper_bound)] \n",
    "    return df"
   ]
  },
  {
   "cell_type": "code",
   "execution_count": 15,
   "id": "5de6cde0",
   "metadata": {},
   "outputs": [
    {
     "data": {
      "text/html": [
       "<div>\n",
       "<style scoped>\n",
       "    .dataframe tbody tr th:only-of-type {\n",
       "        vertical-align: middle;\n",
       "    }\n",
       "\n",
       "    .dataframe tbody tr th {\n",
       "        vertical-align: top;\n",
       "    }\n",
       "\n",
       "    .dataframe thead th {\n",
       "        text-align: right;\n",
       "    }\n",
       "</style>\n",
       "<table border=\"1\" class=\"dataframe\">\n",
       "  <thead>\n",
       "    <tr style=\"text-align: right;\">\n",
       "      <th></th>\n",
       "      <th>bedroomcnt</th>\n",
       "      <th>bathroomcnt</th>\n",
       "      <th>calculatedfinishedsquarefeet</th>\n",
       "      <th>taxvaluedollarcnt</th>\n",
       "      <th>yearbuilt</th>\n",
       "      <th>fips</th>\n",
       "    </tr>\n",
       "  </thead>\n",
       "  <tbody>\n",
       "    <tr>\n",
       "      <th>8251</th>\n",
       "      <td>4.0</td>\n",
       "      <td>2.0</td>\n",
       "      <td>2226.0</td>\n",
       "      <td>594178.0</td>\n",
       "      <td>1969.0</td>\n",
       "      <td>6111.0</td>\n",
       "    </tr>\n",
       "    <tr>\n",
       "      <th>42134</th>\n",
       "      <td>3.0</td>\n",
       "      <td>2.0</td>\n",
       "      <td>1882.0</td>\n",
       "      <td>540822.0</td>\n",
       "      <td>2002.0</td>\n",
       "      <td>6059.0</td>\n",
       "    </tr>\n",
       "    <tr>\n",
       "      <th>44913</th>\n",
       "      <td>4.0</td>\n",
       "      <td>2.0</td>\n",
       "      <td>1575.0</td>\n",
       "      <td>70231.0</td>\n",
       "      <td>1971.0</td>\n",
       "      <td>6059.0</td>\n",
       "    </tr>\n",
       "    <tr>\n",
       "      <th>34101</th>\n",
       "      <td>4.0</td>\n",
       "      <td>1.5</td>\n",
       "      <td>1902.0</td>\n",
       "      <td>1049750.0</td>\n",
       "      <td>1954.0</td>\n",
       "      <td>6059.0</td>\n",
       "    </tr>\n",
       "    <tr>\n",
       "      <th>19557</th>\n",
       "      <td>3.0</td>\n",
       "      <td>2.0</td>\n",
       "      <td>1538.0</td>\n",
       "      <td>258373.0</td>\n",
       "      <td>1986.0</td>\n",
       "      <td>6059.0</td>\n",
       "    </tr>\n",
       "  </tbody>\n",
       "</table>\n",
       "</div>"
      ],
      "text/plain": [
       "       bedroomcnt  bathroomcnt  calculatedfinishedsquarefeet  \\\n",
       "8251          4.0          2.0                        2226.0   \n",
       "42134         3.0          2.0                        1882.0   \n",
       "44913         4.0          2.0                        1575.0   \n",
       "34101         4.0          1.5                        1902.0   \n",
       "19557         3.0          2.0                        1538.0   \n",
       "\n",
       "       taxvaluedollarcnt  yearbuilt    fips  \n",
       "8251            594178.0     1969.0  6111.0  \n",
       "42134           540822.0     2002.0  6059.0  \n",
       "44913            70231.0     1971.0  6059.0  \n",
       "34101          1049750.0     1954.0  6059.0  \n",
       "19557           258373.0     1986.0  6059.0  "
      ]
     },
     "execution_count": 15,
     "metadata": {},
     "output_type": "execute_result"
    }
   ],
   "source": [
    "out_columns = ['bedroomcnt', 'bathroomcnt', 'calculatedfinishedsquarefeet',]\n",
    "train = remove_outliers(train, 1.5, out_columns)\n",
    "train.head()"
   ]
  },
  {
   "cell_type": "code",
   "execution_count": 16,
   "id": "5da06818",
   "metadata": {},
   "outputs": [
    {
     "data": {
      "text/html": [
       "<div>\n",
       "<style scoped>\n",
       "    .dataframe tbody tr th:only-of-type {\n",
       "        vertical-align: middle;\n",
       "    }\n",
       "\n",
       "    .dataframe tbody tr th {\n",
       "        vertical-align: top;\n",
       "    }\n",
       "\n",
       "    .dataframe thead th {\n",
       "        text-align: right;\n",
       "    }\n",
       "</style>\n",
       "<table border=\"1\" class=\"dataframe\">\n",
       "  <thead>\n",
       "    <tr style=\"text-align: right;\">\n",
       "      <th></th>\n",
       "      <th>bedroomcnt</th>\n",
       "      <th>bathroomcnt</th>\n",
       "      <th>calculatedfinishedsquarefeet</th>\n",
       "      <th>taxvaluedollarcnt</th>\n",
       "      <th>yearbuilt</th>\n",
       "      <th>fips</th>\n",
       "    </tr>\n",
       "  </thead>\n",
       "  <tbody>\n",
       "    <tr>\n",
       "      <th>count</th>\n",
       "      <td>26695.000000</td>\n",
       "      <td>26695.000000</td>\n",
       "      <td>26695.000000</td>\n",
       "      <td>2.669500e+04</td>\n",
       "      <td>26695.000000</td>\n",
       "      <td>26695.000000</td>\n",
       "    </tr>\n",
       "    <tr>\n",
       "      <th>mean</th>\n",
       "      <td>3.217044</td>\n",
       "      <td>2.132309</td>\n",
       "      <td>1733.751939</td>\n",
       "      <td>4.321291e+05</td>\n",
       "      <td>1962.183105</td>\n",
       "      <td>6048.883873</td>\n",
       "    </tr>\n",
       "    <tr>\n",
       "      <th>std</th>\n",
       "      <td>0.789353</td>\n",
       "      <td>0.745034</td>\n",
       "      <td>629.565055</td>\n",
       "      <td>4.047018e+05</td>\n",
       "      <td>21.952218</td>\n",
       "      <td>20.875165</td>\n",
       "    </tr>\n",
       "    <tr>\n",
       "      <th>min</th>\n",
       "      <td>2.000000</td>\n",
       "      <td>1.000000</td>\n",
       "      <td>152.000000</td>\n",
       "      <td>1.000000e+03</td>\n",
       "      <td>1880.000000</td>\n",
       "      <td>6037.000000</td>\n",
       "    </tr>\n",
       "    <tr>\n",
       "      <th>25%</th>\n",
       "      <td>3.000000</td>\n",
       "      <td>2.000000</td>\n",
       "      <td>1250.000000</td>\n",
       "      <td>1.806810e+05</td>\n",
       "      <td>1950.000000</td>\n",
       "      <td>6037.000000</td>\n",
       "    </tr>\n",
       "    <tr>\n",
       "      <th>50%</th>\n",
       "      <td>3.000000</td>\n",
       "      <td>2.000000</td>\n",
       "      <td>1600.000000</td>\n",
       "      <td>3.514640e+05</td>\n",
       "      <td>1959.000000</td>\n",
       "      <td>6037.000000</td>\n",
       "    </tr>\n",
       "    <tr>\n",
       "      <th>75%</th>\n",
       "      <td>4.000000</td>\n",
       "      <td>3.000000</td>\n",
       "      <td>2115.000000</td>\n",
       "      <td>5.568360e+05</td>\n",
       "      <td>1977.000000</td>\n",
       "      <td>6059.000000</td>\n",
       "    </tr>\n",
       "    <tr>\n",
       "      <th>max</th>\n",
       "      <td>5.000000</td>\n",
       "      <td>4.000000</td>\n",
       "      <td>3538.000000</td>\n",
       "      <td>1.061040e+07</td>\n",
       "      <td>2016.000000</td>\n",
       "      <td>6111.000000</td>\n",
       "    </tr>\n",
       "  </tbody>\n",
       "</table>\n",
       "</div>"
      ],
      "text/plain": [
       "         bedroomcnt   bathroomcnt  calculatedfinishedsquarefeet  \\\n",
       "count  26695.000000  26695.000000                  26695.000000   \n",
       "mean       3.217044      2.132309                   1733.751939   \n",
       "std        0.789353      0.745034                    629.565055   \n",
       "min        2.000000      1.000000                    152.000000   \n",
       "25%        3.000000      2.000000                   1250.000000   \n",
       "50%        3.000000      2.000000                   1600.000000   \n",
       "75%        4.000000      3.000000                   2115.000000   \n",
       "max        5.000000      4.000000                   3538.000000   \n",
       "\n",
       "       taxvaluedollarcnt     yearbuilt          fips  \n",
       "count       2.669500e+04  26695.000000  26695.000000  \n",
       "mean        4.321291e+05   1962.183105   6048.883873  \n",
       "std         4.047018e+05     21.952218     20.875165  \n",
       "min         1.000000e+03   1880.000000   6037.000000  \n",
       "25%         1.806810e+05   1950.000000   6037.000000  \n",
       "50%         3.514640e+05   1959.000000   6037.000000  \n",
       "75%         5.568360e+05   1977.000000   6059.000000  \n",
       "max         1.061040e+07   2016.000000   6111.000000  "
      ]
     },
     "execution_count": 16,
     "metadata": {},
     "output_type": "execute_result"
    }
   ],
   "source": [
    "train.describe()"
   ]
  },
  {
   "cell_type": "code",
   "execution_count": 17,
   "id": "a30a4129",
   "metadata": {},
   "outputs": [
    {
     "data": {
      "text/plain": [
       "(26695, 6)"
      ]
     },
     "execution_count": 17,
     "metadata": {},
     "output_type": "execute_result"
    }
   ],
   "source": [
    "train.shape"
   ]
  },
  {
   "cell_type": "code",
   "execution_count": 18,
   "id": "4fc0fa82",
   "metadata": {},
   "outputs": [
    {
     "data": {
      "text/html": [
       "<div>\n",
       "<style scoped>\n",
       "    .dataframe tbody tr th:only-of-type {\n",
       "        vertical-align: middle;\n",
       "    }\n",
       "\n",
       "    .dataframe tbody tr th {\n",
       "        vertical-align: top;\n",
       "    }\n",
       "\n",
       "    .dataframe thead th {\n",
       "        text-align: right;\n",
       "    }\n",
       "</style>\n",
       "<table border=\"1\" class=\"dataframe\">\n",
       "  <thead>\n",
       "    <tr style=\"text-align: right;\">\n",
       "      <th></th>\n",
       "      <th>bedroomcnt</th>\n",
       "      <th>bathroomcnt</th>\n",
       "      <th>calculatedfinishedsquarefeet</th>\n",
       "      <th>yearbuilt</th>\n",
       "    </tr>\n",
       "  </thead>\n",
       "  <tbody>\n",
       "    <tr>\n",
       "      <th>8251</th>\n",
       "      <td>4.0</td>\n",
       "      <td>2.0</td>\n",
       "      <td>2226.0</td>\n",
       "      <td>1969.0</td>\n",
       "    </tr>\n",
       "    <tr>\n",
       "      <th>42134</th>\n",
       "      <td>3.0</td>\n",
       "      <td>2.0</td>\n",
       "      <td>1882.0</td>\n",
       "      <td>2002.0</td>\n",
       "    </tr>\n",
       "    <tr>\n",
       "      <th>44913</th>\n",
       "      <td>4.0</td>\n",
       "      <td>2.0</td>\n",
       "      <td>1575.0</td>\n",
       "      <td>1971.0</td>\n",
       "    </tr>\n",
       "    <tr>\n",
       "      <th>34101</th>\n",
       "      <td>4.0</td>\n",
       "      <td>1.5</td>\n",
       "      <td>1902.0</td>\n",
       "      <td>1954.0</td>\n",
       "    </tr>\n",
       "    <tr>\n",
       "      <th>19557</th>\n",
       "      <td>3.0</td>\n",
       "      <td>2.0</td>\n",
       "      <td>1538.0</td>\n",
       "      <td>1986.0</td>\n",
       "    </tr>\n",
       "  </tbody>\n",
       "</table>\n",
       "</div>"
      ],
      "text/plain": [
       "       bedroomcnt  bathroomcnt  calculatedfinishedsquarefeet  yearbuilt\n",
       "8251          4.0          2.0                        2226.0     1969.0\n",
       "42134         3.0          2.0                        1882.0     2002.0\n",
       "44913         4.0          2.0                        1575.0     1971.0\n",
       "34101         4.0          1.5                        1902.0     1954.0\n",
       "19557         3.0          2.0                        1538.0     1986.0"
      ]
     },
     "execution_count": 18,
     "metadata": {},
     "output_type": "execute_result"
    }
   ],
   "source": [
    "x_train = train[['bedroomcnt', 'bathroomcnt', 'calculatedfinishedsquarefeet', 'yearbuilt']]\n",
    "y_train = train[['taxvaluedollarcnt']]\n",
    "x_train.head()"
   ]
  },
  {
   "cell_type": "code",
   "execution_count": 19,
   "id": "e13f020b",
   "metadata": {},
   "outputs": [
    {
     "data": {
      "text/html": [
       "<div>\n",
       "<style scoped>\n",
       "    .dataframe tbody tr th:only-of-type {\n",
       "        vertical-align: middle;\n",
       "    }\n",
       "\n",
       "    .dataframe tbody tr th {\n",
       "        vertical-align: top;\n",
       "    }\n",
       "\n",
       "    .dataframe thead th {\n",
       "        text-align: right;\n",
       "    }\n",
       "</style>\n",
       "<table border=\"1\" class=\"dataframe\">\n",
       "  <thead>\n",
       "    <tr style=\"text-align: right;\">\n",
       "      <th></th>\n",
       "      <th>taxvaluedollarcnt</th>\n",
       "    </tr>\n",
       "  </thead>\n",
       "  <tbody>\n",
       "    <tr>\n",
       "      <th>8251</th>\n",
       "      <td>594178.0</td>\n",
       "    </tr>\n",
       "    <tr>\n",
       "      <th>42134</th>\n",
       "      <td>540822.0</td>\n",
       "    </tr>\n",
       "    <tr>\n",
       "      <th>44913</th>\n",
       "      <td>70231.0</td>\n",
       "    </tr>\n",
       "    <tr>\n",
       "      <th>34101</th>\n",
       "      <td>1049750.0</td>\n",
       "    </tr>\n",
       "    <tr>\n",
       "      <th>19557</th>\n",
       "      <td>258373.0</td>\n",
       "    </tr>\n",
       "  </tbody>\n",
       "</table>\n",
       "</div>"
      ],
      "text/plain": [
       "       taxvaluedollarcnt\n",
       "8251            594178.0\n",
       "42134           540822.0\n",
       "44913            70231.0\n",
       "34101          1049750.0\n",
       "19557           258373.0"
      ]
     },
     "execution_count": 19,
     "metadata": {},
     "output_type": "execute_result"
    }
   ],
   "source": [
    "y_train.head()"
   ]
  },
  {
   "cell_type": "code",
   "execution_count": 20,
   "id": "f8e966fe",
   "metadata": {},
   "outputs": [
    {
     "data": {
      "image/png": "[encoded data removed]",
      "text/plain": [
       "<Figure size 360x360 with 1 Axes>"
      ]
     },
     "metadata": {
      "needs_background": "light"
     },
     "output_type": "display_data"
    }
   ],
   "source": [
    "\n",
    "sns.relplot(x='calculatedfinishedsquarefeet', y='taxvaluedollarcnt', data=train)\n",
    "plt.show()"
   ]
  },
  {
   "cell_type": "code",
   "execution_count": 21,
   "id": "9b45fed3",
   "metadata": {},
   "outputs": [
    {
     "data": {
      "image/png": "[encoded data removed]",
      "text/plain": [
       "<Figure size 360x360 with 1 Axes>"
      ]
     },
     "metadata": {
      "needs_background": "light"
     },
     "output_type": "display_data"
    }
   ],
   "source": [
    "sns.lmplot(x='calculatedfinishedsquarefeet', y='taxvaluedollarcnt', data=train, line_kws={'color': 'red'})\n",
    "plt.show()"
   ]
  },
  {
   "cell_type": "code",
   "execution_count": 22,
   "id": "591786d5",
   "metadata": {},
   "outputs": [
    {
     "data": {
      "image/png": "[encoded data removed]",
      "text/plain": [
       "<Figure size 360x360 with 1 Axes>"
      ]
     },
     "metadata": {
      "needs_background": "light"
     },
     "output_type": "display_data"
    }
   ],
   "source": [
    "sns.lmplot(x='yearbuilt', y='taxvaluedollarcnt', data=train, line_kws={'color': 'red'})\n",
    "plt.show()"
   ]
  },
  {
   "cell_type": "code",
   "execution_count": 23,
   "id": "931a26ae",
   "metadata": {},
   "outputs": [
    {
     "data": {
      "text/plain": [
       "<AxesSubplot:xlabel='yearbuilt', ylabel='taxvaluedollarcnt'>"
      ]
     },
     "execution_count": 23,
     "metadata": {},
     "output_type": "execute_result"
    },
    {
     "data": {
      "image/png": "[encoded data removed]",
      "text/plain": [
       "<Figure size 1008x576 with 3 Axes>"
      ]
     },
     "metadata": {
      "needs_background": "light"
     },
     "output_type": "display_data"
    }
   ],
   "source": [
    "fig, ax = plt.subplots(ncols=3, figsize=(14, 8))\n",
    "sns.barplot(x='bedroomcnt', y='taxvaluedollarcnt', data=train, ax=ax[0])\n",
    "sns.barplot(x='bathroomcnt', y='taxvaluedollarcnt', data=train, ax=ax[1])\n",
    "sns.barplot(x='yearbuilt', y='taxvaluedollarcnt', data=train, ax=ax[2])"
   ]
  },
  {
   "cell_type": "code",
   "execution_count": 24,
   "id": "682d6908",
   "metadata": {},
   "outputs": [
    {
     "data": {
      "text/html": [
       "<div>\n",
       "<style scoped>\n",
       "    .dataframe tbody tr th:only-of-type {\n",
       "        vertical-align: middle;\n",
       "    }\n",
       "\n",
       "    .dataframe tbody tr th {\n",
       "        vertical-align: top;\n",
       "    }\n",
       "\n",
       "    .dataframe thead th {\n",
       "        text-align: right;\n",
       "    }\n",
       "</style>\n",
       "<table border=\"1\" class=\"dataframe\">\n",
       "  <thead>\n",
       "    <tr style=\"text-align: right;\">\n",
       "      <th></th>\n",
       "      <th>bedroomcnt</th>\n",
       "      <th>bathroomcnt</th>\n",
       "      <th>calculatedfinishedsquarefeet</th>\n",
       "      <th>yearbuilt</th>\n",
       "    </tr>\n",
       "  </thead>\n",
       "  <tbody>\n",
       "    <tr>\n",
       "      <th>8251</th>\n",
       "      <td>0.666667</td>\n",
       "      <td>0.333333</td>\n",
       "      <td>0.612522</td>\n",
       "      <td>0.654412</td>\n",
       "    </tr>\n",
       "    <tr>\n",
       "      <th>42134</th>\n",
       "      <td>0.333333</td>\n",
       "      <td>0.333333</td>\n",
       "      <td>0.510927</td>\n",
       "      <td>0.897059</td>\n",
       "    </tr>\n",
       "    <tr>\n",
       "      <th>44913</th>\n",
       "      <td>0.666667</td>\n",
       "      <td>0.333333</td>\n",
       "      <td>0.420260</td>\n",
       "      <td>0.669118</td>\n",
       "    </tr>\n",
       "    <tr>\n",
       "      <th>34101</th>\n",
       "      <td>0.666667</td>\n",
       "      <td>0.166667</td>\n",
       "      <td>0.516834</td>\n",
       "      <td>0.544118</td>\n",
       "    </tr>\n",
       "    <tr>\n",
       "      <th>19557</th>\n",
       "      <td>0.333333</td>\n",
       "      <td>0.333333</td>\n",
       "      <td>0.409333</td>\n",
       "      <td>0.779412</td>\n",
       "    </tr>\n",
       "  </tbody>\n",
       "</table>\n",
       "</div>"
      ],
      "text/plain": [
       "       bedroomcnt  bathroomcnt  calculatedfinishedsquarefeet  yearbuilt\n",
       "8251     0.666667     0.333333                      0.612522   0.654412\n",
       "42134    0.333333     0.333333                      0.510927   0.897059\n",
       "44913    0.666667     0.333333                      0.420260   0.669118\n",
       "34101    0.666667     0.166667                      0.516834   0.544118\n",
       "19557    0.333333     0.333333                      0.409333   0.779412"
      ]
     },
     "execution_count": 24,
     "metadata": {},
     "output_type": "execute_result"
    }
   ],
   "source": [
    "#create a min-max scaler object\n",
    "scaler = MinMaxScaler()\n",
    "#fit the scaler with the train data\n",
    "scaler.fit(x_train)\n",
    "#output the results of the scaler into a new df to use with feature selection\n",
    "x_train_scaled = scaler.transform(x_train)\n",
    "x_train_scaled_df = pd.DataFrame(x_train_scaled, columns=x_train.columns, index=x_train.index)\n",
    "x_train_scaled_df.head()"
   ]
  },
  {
   "cell_type": "code",
   "execution_count": 25,
   "id": "ae9f15dd",
   "metadata": {},
   "outputs": [
    {
     "data": {
      "text/html": [
       "<div>\n",
       "<style scoped>\n",
       "    .dataframe tbody tr th:only-of-type {\n",
       "        vertical-align: middle;\n",
       "    }\n",
       "\n",
       "    .dataframe tbody tr th {\n",
       "        vertical-align: top;\n",
       "    }\n",
       "\n",
       "    .dataframe thead th {\n",
       "        text-align: right;\n",
       "    }\n",
       "</style>\n",
       "<table border=\"1\" class=\"dataframe\">\n",
       "  <thead>\n",
       "    <tr style=\"text-align: right;\">\n",
       "      <th></th>\n",
       "      <th>bedroomcnt</th>\n",
       "      <th>bathroomcnt</th>\n",
       "      <th>calculatedfinishedsquarefeet</th>\n",
       "      <th>yearbuilt</th>\n",
       "    </tr>\n",
       "  </thead>\n",
       "  <tbody>\n",
       "    <tr>\n",
       "      <th>32004</th>\n",
       "      <td>2.0</td>\n",
       "      <td>1.0</td>\n",
       "      <td>820.0</td>\n",
       "      <td>1925.0</td>\n",
       "    </tr>\n",
       "    <tr>\n",
       "      <th>44332</th>\n",
       "      <td>3.0</td>\n",
       "      <td>2.0</td>\n",
       "      <td>704.0</td>\n",
       "      <td>1939.0</td>\n",
       "    </tr>\n",
       "    <tr>\n",
       "      <th>21552</th>\n",
       "      <td>3.0</td>\n",
       "      <td>3.0</td>\n",
       "      <td>2115.0</td>\n",
       "      <td>1996.0</td>\n",
       "    </tr>\n",
       "    <tr>\n",
       "      <th>21019</th>\n",
       "      <td>3.0</td>\n",
       "      <td>2.0</td>\n",
       "      <td>1183.0</td>\n",
       "      <td>1953.0</td>\n",
       "    </tr>\n",
       "    <tr>\n",
       "      <th>38671</th>\n",
       "      <td>3.0</td>\n",
       "      <td>2.0</td>\n",
       "      <td>1245.0</td>\n",
       "      <td>1954.0</td>\n",
       "    </tr>\n",
       "  </tbody>\n",
       "</table>\n",
       "</div>"
      ],
      "text/plain": [
       "       bedroomcnt  bathroomcnt  calculatedfinishedsquarefeet  yearbuilt\n",
       "32004         2.0          1.0                         820.0     1925.0\n",
       "44332         3.0          2.0                         704.0     1939.0\n",
       "21552         3.0          3.0                        2115.0     1996.0\n",
       "21019         3.0          2.0                        1183.0     1953.0\n",
       "38671         3.0          2.0                        1245.0     1954.0"
      ]
     },
     "execution_count": 25,
     "metadata": {},
     "output_type": "execute_result"
    }
   ],
   "source": [
    "x_validate = validate[['bedroomcnt', 'bathroomcnt', 'calculatedfinishedsquarefeet', 'yearbuilt']]\n",
    "x_validate.head()"
   ]
  },
  {
   "cell_type": "code",
   "execution_count": 26,
   "id": "17262867",
   "metadata": {},
   "outputs": [
    {
     "data": {
      "text/plain": [
       "(12557, 4)"
      ]
     },
     "execution_count": 26,
     "metadata": {},
     "output_type": "execute_result"
    }
   ],
   "source": [
    "x_validate.shape"
   ]
  },
  {
   "cell_type": "code",
   "execution_count": 27,
   "id": "4fced9e8",
   "metadata": {},
   "outputs": [
    {
     "data": {
      "text/html": [
       "<div>\n",
       "<style scoped>\n",
       "    .dataframe tbody tr th:only-of-type {\n",
       "        vertical-align: middle;\n",
       "    }\n",
       "\n",
       "    .dataframe tbody tr th {\n",
       "        vertical-align: top;\n",
       "    }\n",
       "\n",
       "    .dataframe thead th {\n",
       "        text-align: right;\n",
       "    }\n",
       "</style>\n",
       "<table border=\"1\" class=\"dataframe\">\n",
       "  <thead>\n",
       "    <tr style=\"text-align: right;\">\n",
       "      <th></th>\n",
       "      <th>actual</th>\n",
       "    </tr>\n",
       "  </thead>\n",
       "  <tbody>\n",
       "    <tr>\n",
       "      <th>32004</th>\n",
       "      <td>23350.0</td>\n",
       "    </tr>\n",
       "    <tr>\n",
       "      <th>44332</th>\n",
       "      <td>246427.0</td>\n",
       "    </tr>\n",
       "    <tr>\n",
       "      <th>21552</th>\n",
       "      <td>638000.0</td>\n",
       "    </tr>\n",
       "    <tr>\n",
       "      <th>21019</th>\n",
       "      <td>117407.0</td>\n",
       "    </tr>\n",
       "    <tr>\n",
       "      <th>38671</th>\n",
       "      <td>73174.0</td>\n",
       "    </tr>\n",
       "  </tbody>\n",
       "</table>\n",
       "</div>"
      ],
      "text/plain": [
       "         actual\n",
       "32004   23350.0\n",
       "44332  246427.0\n",
       "21552  638000.0\n",
       "21019  117407.0\n",
       "38671   73174.0"
      ]
     },
     "execution_count": 27,
     "metadata": {},
     "output_type": "execute_result"
    }
   ],
   "source": [
    "predictions = pd.DataFrame({'actual': validate.taxvaluedollarcnt})\n",
    "predictions.head()"
   ]
  },
  {
   "cell_type": "code",
   "execution_count": 28,
   "id": "58776ffd",
   "metadata": {},
   "outputs": [
    {
     "data": {
      "text/plain": [
       "(12557, 1)"
      ]
     },
     "execution_count": 28,
     "metadata": {},
     "output_type": "execute_result"
    }
   ],
   "source": [
    "predictions.shape"
   ]
  },
  {
   "cell_type": "code",
   "execution_count": 29,
   "id": "898b12fb",
   "metadata": {},
   "outputs": [
    {
     "data": {
      "text/html": [
       "<div>\n",
       "<style scoped>\n",
       "    .dataframe tbody tr th:only-of-type {\n",
       "        vertical-align: middle;\n",
       "    }\n",
       "\n",
       "    .dataframe tbody tr th {\n",
       "        vertical-align: top;\n",
       "    }\n",
       "\n",
       "    .dataframe thead th {\n",
       "        text-align: right;\n",
       "    }\n",
       "</style>\n",
       "<table border=\"1\" class=\"dataframe\">\n",
       "  <thead>\n",
       "    <tr style=\"text-align: right;\">\n",
       "      <th></th>\n",
       "      <th>bedroomcnt</th>\n",
       "      <th>bathroomcnt</th>\n",
       "      <th>calculatedfinishedsquarefeet</th>\n",
       "      <th>yearbuilt</th>\n",
       "    </tr>\n",
       "  </thead>\n",
       "  <tbody>\n",
       "    <tr>\n",
       "      <th>32004</th>\n",
       "      <td>0.000000</td>\n",
       "      <td>0.000000</td>\n",
       "      <td>0.197283</td>\n",
       "      <td>0.330882</td>\n",
       "    </tr>\n",
       "    <tr>\n",
       "      <th>44332</th>\n",
       "      <td>0.333333</td>\n",
       "      <td>0.333333</td>\n",
       "      <td>0.163024</td>\n",
       "      <td>0.433824</td>\n",
       "    </tr>\n",
       "    <tr>\n",
       "      <th>21552</th>\n",
       "      <td>0.333333</td>\n",
       "      <td>0.666667</td>\n",
       "      <td>0.579740</td>\n",
       "      <td>0.852941</td>\n",
       "    </tr>\n",
       "    <tr>\n",
       "      <th>21019</th>\n",
       "      <td>0.333333</td>\n",
       "      <td>0.333333</td>\n",
       "      <td>0.304489</td>\n",
       "      <td>0.536765</td>\n",
       "    </tr>\n",
       "    <tr>\n",
       "      <th>38671</th>\n",
       "      <td>0.333333</td>\n",
       "      <td>0.333333</td>\n",
       "      <td>0.322800</td>\n",
       "      <td>0.544118</td>\n",
       "    </tr>\n",
       "  </tbody>\n",
       "</table>\n",
       "</div>"
      ],
      "text/plain": [
       "       bedroomcnt  bathroomcnt  calculatedfinishedsquarefeet  yearbuilt\n",
       "32004    0.000000     0.000000                      0.197283   0.330882\n",
       "44332    0.333333     0.333333                      0.163024   0.433824\n",
       "21552    0.333333     0.666667                      0.579740   0.852941\n",
       "21019    0.333333     0.333333                      0.304489   0.536765\n",
       "38671    0.333333     0.333333                      0.322800   0.544118"
      ]
     },
     "execution_count": 29,
     "metadata": {},
     "output_type": "execute_result"
    }
   ],
   "source": [
    "\n",
    "x_validate_scaled = scaler.transform(x_validate)\n",
    "x_validate_scaled_df = pd.DataFrame(x_validate_scaled, columns=x_train.columns, index=x_validate.index)\n",
    "x_validate_scaled_df.head()"
   ]
  },
  {
   "cell_type": "code",
   "execution_count": null,
   "id": "61184ed3",
   "metadata": {},
   "outputs": [],
   "source": []
  },
  {
   "cell_type": "markdown",
   "id": "abe30f7e",
   "metadata": {},
   "source": [
    "---"
   ]
  },
  {
   "cell_type": "markdown",
   "id": "4fb825d7",
   "metadata": {},
   "source": [
    "##### Auto feature selection"
   ]
  },
  {
   "cell_type": "code",
   "execution_count": 30,
   "id": "91150095",
   "metadata": {},
   "outputs": [
    {
     "name": "stdout",
     "output_type": "stream",
     "text": [
      "Top 2 features according to k-best:\n"
     ]
    },
    {
     "data": {
      "text/plain": [
       "Index(['bathroomcnt', 'calculatedfinishedsquarefeet'], dtype='object')"
      ]
     },
     "execution_count": 30,
     "metadata": {},
     "output_type": "execute_result"
    }
   ],
   "source": [
    "x = x_train_scaled_df\n",
    "y = y_train\n",
    "kbest = SelectKBest(f_regression, k=2)\n",
    "kbest.fit(x, y)\n",
    "print('Top 2 features according to k-best:')\n",
    "x.columns[kbest.get_support()]"
   ]
  },
  {
   "cell_type": "code",
   "execution_count": 31,
   "id": "94a6ab3d",
   "metadata": {},
   "outputs": [
    {
     "name": "stdout",
     "output_type": "stream",
     "text": [
      "Top 1 features according to k-best:\n"
     ]
    },
    {
     "data": {
      "text/plain": [
       "Index(['calculatedfinishedsquarefeet'], dtype='object')"
      ]
     },
     "execution_count": 31,
     "metadata": {},
     "output_type": "execute_result"
    }
   ],
   "source": [
    "x = x_train_scaled_df\n",
    "y = y_train\n",
    "kbest = SelectKBest(f_regression, k=1)\n",
    "kbest.fit(x, y)\n",
    "print('Top 1 features according to k-best:')\n",
    "x.columns[kbest.get_support()]"
   ]
  },
  {
   "cell_type": "code",
   "execution_count": 32,
   "id": "b937edaa",
   "metadata": {},
   "outputs": [
    {
     "name": "stdout",
     "output_type": "stream",
     "text": [
      "Top 1 features according to RFE:\n"
     ]
    },
    {
     "data": {
      "text/plain": [
       "Index(['bedroomcnt', 'calculatedfinishedsquarefeet'], dtype='object')"
      ]
     },
     "execution_count": 32,
     "metadata": {},
     "output_type": "execute_result"
    }
   ],
   "source": [
    "model = LinearRegression()\n",
    "rfe = RFE(model, n_features_to_select=2).fit(x, y)\n",
    "print('Top 1 features according to RFE:')\n",
    "x.columns[rfe.get_support()]"
   ]
  },
  {
   "cell_type": "code",
   "execution_count": 54,
   "id": "95aa4096",
   "metadata": {},
   "outputs": [
    {
     "data": {
      "text/html": [
       "<div>\n",
       "<style scoped>\n",
       "    .dataframe tbody tr th:only-of-type {\n",
       "        vertical-align: middle;\n",
       "    }\n",
       "\n",
       "    .dataframe tbody tr th {\n",
       "        vertical-align: top;\n",
       "    }\n",
       "\n",
       "    .dataframe thead th {\n",
       "        text-align: right;\n",
       "    }\n",
       "</style>\n",
       "<table border=\"1\" class=\"dataframe\">\n",
       "  <thead>\n",
       "    <tr style=\"text-align: right;\">\n",
       "      <th></th>\n",
       "      <th>rfe_ranking</th>\n",
       "    </tr>\n",
       "  </thead>\n",
       "  <tbody>\n",
       "    <tr>\n",
       "      <th>bedroomcnt</th>\n",
       "      <td>1</td>\n",
       "    </tr>\n",
       "    <tr>\n",
       "      <th>bathroomcnt</th>\n",
       "      <td>3</td>\n",
       "    </tr>\n",
       "    <tr>\n",
       "      <th>calculatedfinishedsquarefeet</th>\n",
       "      <td>1</td>\n",
       "    </tr>\n",
       "    <tr>\n",
       "      <th>yearbuilt</th>\n",
       "      <td>2</td>\n",
       "    </tr>\n",
       "  </tbody>\n",
       "</table>\n",
       "</div>"
      ],
      "text/plain": [
       "                              rfe_ranking\n",
       "bedroomcnt                              1\n",
       "bathroomcnt                             3\n",
       "calculatedfinishedsquarefeet            1\n",
       "yearbuilt                               2"
      ]
     },
     "execution_count": 54,
     "metadata": {},
     "output_type": "execute_result"
    }
   ],
   "source": [
    "pd.DataFrame({'rfe_ranking': rfe.ranking_}, index=x.columns)"
   ]
  },
  {
   "cell_type": "code",
   "execution_count": null,
   "id": "6f3af379",
   "metadata": {},
   "outputs": [],
   "source": []
  },
  {
   "cell_type": "markdown",
   "id": "c873e1a7",
   "metadata": {},
   "source": [
    "---"
   ]
  },
  {
   "cell_type": "markdown",
   "id": "f921582d",
   "metadata": {},
   "source": [
    "#### Modeling"
   ]
  },
  {
   "cell_type": "code",
   "execution_count": 33,
   "id": "cf124bef",
   "metadata": {},
   "outputs": [
    {
     "data": {
      "text/html": [
       "<div>\n",
       "<style scoped>\n",
       "    .dataframe tbody tr th:only-of-type {\n",
       "        vertical-align: middle;\n",
       "    }\n",
       "\n",
       "    .dataframe tbody tr th {\n",
       "        vertical-align: top;\n",
       "    }\n",
       "\n",
       "    .dataframe thead th {\n",
       "        text-align: right;\n",
       "    }\n",
       "</style>\n",
       "<table border=\"1\" class=\"dataframe\">\n",
       "  <thead>\n",
       "    <tr style=\"text-align: right;\">\n",
       "      <th></th>\n",
       "      <th>actual</th>\n",
       "      <th>simple_lm</th>\n",
       "    </tr>\n",
       "  </thead>\n",
       "  <tbody>\n",
       "    <tr>\n",
       "      <th>32004</th>\n",
       "      <td>23350.0</td>\n",
       "      <td>182438.017207</td>\n",
       "    </tr>\n",
       "    <tr>\n",
       "      <th>44332</th>\n",
       "      <td>246427.0</td>\n",
       "      <td>150739.954684</td>\n",
       "    </tr>\n",
       "    <tr>\n",
       "      <th>21552</th>\n",
       "      <td>638000.0</td>\n",
       "      <td>536308.629002</td>\n",
       "    </tr>\n",
       "    <tr>\n",
       "      <th>21019</th>\n",
       "      <td>117407.0</td>\n",
       "      <td>281631.092174</td>\n",
       "    </tr>\n",
       "    <tr>\n",
       "      <th>38671</th>\n",
       "      <td>73174.0</td>\n",
       "      <td>298573.160074</td>\n",
       "    </tr>\n",
       "  </tbody>\n",
       "</table>\n",
       "</div>"
      ],
      "text/plain": [
       "         actual      simple_lm\n",
       "32004   23350.0  182438.017207\n",
       "44332  246427.0  150739.954684\n",
       "21552  638000.0  536308.629002\n",
       "21019  117407.0  281631.092174\n",
       "38671   73174.0  298573.160074"
      ]
     },
     "execution_count": 33,
     "metadata": {},
     "output_type": "execute_result"
    }
   ],
   "source": [
    "x = x_train_scaled_df[['calculatedfinishedsquarefeet']]\n",
    "z = x_validate_scaled_df[['calculatedfinishedsquarefeet']]\n",
    "lm = LinearRegression()\n",
    "lm.fit(x, y_train)\n",
    "predictions['simple_lm'] = lm.predict(z)\n",
    "predictions.head()"
   ]
  },
  {
   "cell_type": "code",
   "execution_count": 35,
   "id": "e376b456",
   "metadata": {},
   "outputs": [
    {
     "data": {
      "text/html": [
       "<div>\n",
       "<style scoped>\n",
       "    .dataframe tbody tr th:only-of-type {\n",
       "        vertical-align: middle;\n",
       "    }\n",
       "\n",
       "    .dataframe tbody tr th {\n",
       "        vertical-align: top;\n",
       "    }\n",
       "\n",
       "    .dataframe thead th {\n",
       "        text-align: right;\n",
       "    }\n",
       "</style>\n",
       "<table border=\"1\" class=\"dataframe\">\n",
       "  <thead>\n",
       "    <tr style=\"text-align: right;\">\n",
       "      <th></th>\n",
       "      <th>actual</th>\n",
       "      <th>simple_lm</th>\n",
       "      <th>multiple_rfe</th>\n",
       "    </tr>\n",
       "  </thead>\n",
       "  <tbody>\n",
       "    <tr>\n",
       "      <th>32004</th>\n",
       "      <td>23350.0</td>\n",
       "      <td>182438.017207</td>\n",
       "      <td>228173.610336</td>\n",
       "    </tr>\n",
       "    <tr>\n",
       "      <th>44332</th>\n",
       "      <td>246427.0</td>\n",
       "      <td>150739.954684</td>\n",
       "      <td>103505.565725</td>\n",
       "    </tr>\n",
       "    <tr>\n",
       "      <th>21552</th>\n",
       "      <td>638000.0</td>\n",
       "      <td>536308.629002</td>\n",
       "      <td>579241.197211</td>\n",
       "    </tr>\n",
       "    <tr>\n",
       "      <th>21019</th>\n",
       "      <td>117407.0</td>\n",
       "      <td>281631.092174</td>\n",
       "      <td>265006.180524</td>\n",
       "    </tr>\n",
       "    <tr>\n",
       "      <th>38671</th>\n",
       "      <td>73174.0</td>\n",
       "      <td>298573.160074</td>\n",
       "      <td>285910.226699</td>\n",
       "    </tr>\n",
       "  </tbody>\n",
       "</table>\n",
       "</div>"
      ],
      "text/plain": [
       "         actual      simple_lm   multiple_rfe\n",
       "32004   23350.0  182438.017207  228173.610336\n",
       "44332  246427.0  150739.954684  103505.565725\n",
       "21552  638000.0  536308.629002  579241.197211\n",
       "21019  117407.0  281631.092174  265006.180524\n",
       "38671   73174.0  298573.160074  285910.226699"
      ]
     },
     "execution_count": 35,
     "metadata": {},
     "output_type": "execute_result"
    }
   ],
   "source": [
    "mr = LinearRegression()\n",
    "rfe_top_two = x_train_scaled_df[['calculatedfinishedsquarefeet', 'bedroomcnt']]\n",
    "mr.fit(rfe_top_two, y_train)\n",
    "val_rfe_top_two = x_validate_scaled_df[['calculatedfinishedsquarefeet', 'bedroomcnt']]\n",
    "predictions['multiple_rfe'] = mr.predict(val_rfe_top_two)\n",
    "predictions.head()"
   ]
  },
  {
   "cell_type": "code",
   "execution_count": 37,
   "id": "8dd5eb3a",
   "metadata": {},
   "outputs": [
    {
     "data": {
      "text/html": [
       "<div>\n",
       "<style scoped>\n",
       "    .dataframe tbody tr th:only-of-type {\n",
       "        vertical-align: middle;\n",
       "    }\n",
       "\n",
       "    .dataframe tbody tr th {\n",
       "        vertical-align: top;\n",
       "    }\n",
       "\n",
       "    .dataframe thead th {\n",
       "        text-align: right;\n",
       "    }\n",
       "</style>\n",
       "<table border=\"1\" class=\"dataframe\">\n",
       "  <thead>\n",
       "    <tr style=\"text-align: right;\">\n",
       "      <th></th>\n",
       "      <th>bedroomcnt</th>\n",
       "      <th>bathroomcnt</th>\n",
       "      <th>calculatedfinishedsquarefeet</th>\n",
       "      <th>yearbuilt</th>\n",
       "      <th>bedroomcnt^2</th>\n",
       "      <th>bedroomcnt bathroomcnt</th>\n",
       "      <th>bedroomcnt calculatedfinishedsquarefeet</th>\n",
       "      <th>bedroomcnt yearbuilt</th>\n",
       "      <th>bathroomcnt^2</th>\n",
       "      <th>bathroomcnt calculatedfinishedsquarefeet</th>\n",
       "      <th>bathroomcnt yearbuilt</th>\n",
       "      <th>calculatedfinishedsquarefeet^2</th>\n",
       "      <th>calculatedfinishedsquarefeet yearbuilt</th>\n",
       "      <th>yearbuilt^2</th>\n",
       "    </tr>\n",
       "  </thead>\n",
       "  <tbody>\n",
       "    <tr>\n",
       "      <th>8251</th>\n",
       "      <td>0.666667</td>\n",
       "      <td>0.333333</td>\n",
       "      <td>0.612522</td>\n",
       "      <td>0.654412</td>\n",
       "      <td>0.444444</td>\n",
       "      <td>0.222222</td>\n",
       "      <td>0.408348</td>\n",
       "      <td>0.436275</td>\n",
       "      <td>0.111111</td>\n",
       "      <td>0.204174</td>\n",
       "      <td>0.218137</td>\n",
       "      <td>0.375183</td>\n",
       "      <td>0.400842</td>\n",
       "      <td>0.428255</td>\n",
       "    </tr>\n",
       "    <tr>\n",
       "      <th>42134</th>\n",
       "      <td>0.333333</td>\n",
       "      <td>0.333333</td>\n",
       "      <td>0.510927</td>\n",
       "      <td>0.897059</td>\n",
       "      <td>0.111111</td>\n",
       "      <td>0.111111</td>\n",
       "      <td>0.170309</td>\n",
       "      <td>0.299020</td>\n",
       "      <td>0.111111</td>\n",
       "      <td>0.170309</td>\n",
       "      <td>0.299020</td>\n",
       "      <td>0.261047</td>\n",
       "      <td>0.458332</td>\n",
       "      <td>0.804715</td>\n",
       "    </tr>\n",
       "    <tr>\n",
       "      <th>44913</th>\n",
       "      <td>0.666667</td>\n",
       "      <td>0.333333</td>\n",
       "      <td>0.420260</td>\n",
       "      <td>0.669118</td>\n",
       "      <td>0.444444</td>\n",
       "      <td>0.222222</td>\n",
       "      <td>0.280173</td>\n",
       "      <td>0.446078</td>\n",
       "      <td>0.111111</td>\n",
       "      <td>0.140087</td>\n",
       "      <td>0.223039</td>\n",
       "      <td>0.176618</td>\n",
       "      <td>0.281203</td>\n",
       "      <td>0.447718</td>\n",
       "    </tr>\n",
       "    <tr>\n",
       "      <th>34101</th>\n",
       "      <td>0.666667</td>\n",
       "      <td>0.166667</td>\n",
       "      <td>0.516834</td>\n",
       "      <td>0.544118</td>\n",
       "      <td>0.444444</td>\n",
       "      <td>0.111111</td>\n",
       "      <td>0.344556</td>\n",
       "      <td>0.362745</td>\n",
       "      <td>0.027778</td>\n",
       "      <td>0.086139</td>\n",
       "      <td>0.090686</td>\n",
       "      <td>0.267117</td>\n",
       "      <td>0.281219</td>\n",
       "      <td>0.296064</td>\n",
       "    </tr>\n",
       "    <tr>\n",
       "      <th>19557</th>\n",
       "      <td>0.333333</td>\n",
       "      <td>0.333333</td>\n",
       "      <td>0.409333</td>\n",
       "      <td>0.779412</td>\n",
       "      <td>0.111111</td>\n",
       "      <td>0.111111</td>\n",
       "      <td>0.136444</td>\n",
       "      <td>0.259804</td>\n",
       "      <td>0.111111</td>\n",
       "      <td>0.136444</td>\n",
       "      <td>0.259804</td>\n",
       "      <td>0.167553</td>\n",
       "      <td>0.319039</td>\n",
       "      <td>0.607483</td>\n",
       "    </tr>\n",
       "  </tbody>\n",
       "</table>\n",
       "</div>"
      ],
      "text/plain": [
       "       bedroomcnt  bathroomcnt  calculatedfinishedsquarefeet  yearbuilt  \\\n",
       "8251     0.666667     0.333333                      0.612522   0.654412   \n",
       "42134    0.333333     0.333333                      0.510927   0.897059   \n",
       "44913    0.666667     0.333333                      0.420260   0.669118   \n",
       "34101    0.666667     0.166667                      0.516834   0.544118   \n",
       "19557    0.333333     0.333333                      0.409333   0.779412   \n",
       "\n",
       "       bedroomcnt^2  bedroomcnt bathroomcnt  \\\n",
       "8251       0.444444                0.222222   \n",
       "42134      0.111111                0.111111   \n",
       "44913      0.444444                0.222222   \n",
       "34101      0.444444                0.111111   \n",
       "19557      0.111111                0.111111   \n",
       "\n",
       "       bedroomcnt calculatedfinishedsquarefeet  bedroomcnt yearbuilt  \\\n",
       "8251                                  0.408348              0.436275   \n",
       "42134                                 0.170309              0.299020   \n",
       "44913                                 0.280173              0.446078   \n",
       "34101                                 0.344556              0.362745   \n",
       "19557                                 0.136444              0.259804   \n",
       "\n",
       "       bathroomcnt^2  bathroomcnt calculatedfinishedsquarefeet  \\\n",
       "8251        0.111111                                  0.204174   \n",
       "42134       0.111111                                  0.170309   \n",
       "44913       0.111111                                  0.140087   \n",
       "34101       0.027778                                  0.086139   \n",
       "19557       0.111111                                  0.136444   \n",
       "\n",
       "       bathroomcnt yearbuilt  calculatedfinishedsquarefeet^2  \\\n",
       "8251                0.218137                        0.375183   \n",
       "42134               0.299020                        0.261047   \n",
       "44913               0.223039                        0.176618   \n",
       "34101               0.090686                        0.267117   \n",
       "19557               0.259804                        0.167553   \n",
       "\n",
       "       calculatedfinishedsquarefeet yearbuilt  yearbuilt^2  \n",
       "8251                                 0.400842     0.428255  \n",
       "42134                                0.458332     0.804715  \n",
       "44913                                0.281203     0.447718  \n",
       "34101                                0.281219     0.296064  \n",
       "19557                                0.319039     0.607483  "
      ]
     },
     "execution_count": 37,
     "metadata": {},
     "output_type": "execute_result"
    }
   ],
   "source": [
    "poly = PolynomialFeatures(degree=2, include_bias=False, interaction_only=False)\n",
    "poly.fit(x_train_scaled_df)\n",
    "x_train_poly = pd.DataFrame(\n",
    "    poly.transform(x_train_scaled_df),\n",
    "    columns=poly.get_feature_names(x_train_scaled_df.columns),\n",
    "    index=x_train_scaled_df.index,\n",
    ")\n",
    "x_train_poly.head()"
   ]
  },
  {
   "cell_type": "code",
   "execution_count": 38,
   "id": "104f8882",
   "metadata": {},
   "outputs": [
    {
     "data": {
      "text/html": [
       "<div>\n",
       "<style scoped>\n",
       "    .dataframe tbody tr th:only-of-type {\n",
       "        vertical-align: middle;\n",
       "    }\n",
       "\n",
       "    .dataframe tbody tr th {\n",
       "        vertical-align: top;\n",
       "    }\n",
       "\n",
       "    .dataframe thead th {\n",
       "        text-align: right;\n",
       "    }\n",
       "</style>\n",
       "<table border=\"1\" class=\"dataframe\">\n",
       "  <thead>\n",
       "    <tr style=\"text-align: right;\">\n",
       "      <th></th>\n",
       "      <th>actual</th>\n",
       "      <th>simple_lm</th>\n",
       "      <th>multiple_rfe</th>\n",
       "      <th>polynomial degree 2</th>\n",
       "    </tr>\n",
       "  </thead>\n",
       "  <tbody>\n",
       "    <tr>\n",
       "      <th>32004</th>\n",
       "      <td>23350.0</td>\n",
       "      <td>182438.017207</td>\n",
       "      <td>228173.610336</td>\n",
       "      <td>270132.472523</td>\n",
       "    </tr>\n",
       "    <tr>\n",
       "      <th>44332</th>\n",
       "      <td>246427.0</td>\n",
       "      <td>150739.954684</td>\n",
       "      <td>103505.565725</td>\n",
       "      <td>219493.657189</td>\n",
       "    </tr>\n",
       "    <tr>\n",
       "      <th>21552</th>\n",
       "      <td>638000.0</td>\n",
       "      <td>536308.629002</td>\n",
       "      <td>579241.197211</td>\n",
       "      <td>559928.659516</td>\n",
       "    </tr>\n",
       "    <tr>\n",
       "      <th>21019</th>\n",
       "      <td>117407.0</td>\n",
       "      <td>281631.092174</td>\n",
       "      <td>265006.180524</td>\n",
       "      <td>283092.332215</td>\n",
       "    </tr>\n",
       "    <tr>\n",
       "      <th>38671</th>\n",
       "      <td>73174.0</td>\n",
       "      <td>298573.160074</td>\n",
       "      <td>285910.226699</td>\n",
       "      <td>294293.314806</td>\n",
       "    </tr>\n",
       "  </tbody>\n",
       "</table>\n",
       "</div>"
      ],
      "text/plain": [
       "         actual      simple_lm   multiple_rfe  polynomial degree 2\n",
       "32004   23350.0  182438.017207  228173.610336        270132.472523\n",
       "44332  246427.0  150739.954684  103505.565725        219493.657189\n",
       "21552  638000.0  536308.629002  579241.197211        559928.659516\n",
       "21019  117407.0  281631.092174  265006.180524        283092.332215\n",
       "38671   73174.0  298573.160074  285910.226699        294293.314806"
      ]
     },
     "execution_count": 38,
     "metadata": {},
     "output_type": "execute_result"
    }
   ],
   "source": [
    "poly_rm = LinearRegression()\n",
    "poly_rm.fit(x_train_poly, y_train)\n",
    "\n",
    "x_validate_poly = poly.transform(x_validate_scaled_df)\n",
    "predictions['polynomial degree 2'] = poly_rm.predict(x_validate_poly)\n",
    "predictions.head()"
   ]
  },
  {
   "cell_type": "code",
   "execution_count": 39,
   "id": "a2be3da2",
   "metadata": {},
   "outputs": [
    {
     "data": {
      "text/html": [
       "<div>\n",
       "<style scoped>\n",
       "    .dataframe tbody tr th:only-of-type {\n",
       "        vertical-align: middle;\n",
       "    }\n",
       "\n",
       "    .dataframe tbody tr th {\n",
       "        vertical-align: top;\n",
       "    }\n",
       "\n",
       "    .dataframe thead th {\n",
       "        text-align: right;\n",
       "    }\n",
       "</style>\n",
       "<table border=\"1\" class=\"dataframe\">\n",
       "  <thead>\n",
       "    <tr style=\"text-align: right;\">\n",
       "      <th></th>\n",
       "      <th>actual</th>\n",
       "      <th>simple_lm</th>\n",
       "      <th>multiple_rfe</th>\n",
       "      <th>polynomial degree 2</th>\n",
       "      <th>polynomial only interaction</th>\n",
       "    </tr>\n",
       "  </thead>\n",
       "  <tbody>\n",
       "    <tr>\n",
       "      <th>32004</th>\n",
       "      <td>23350.0</td>\n",
       "      <td>182438.017207</td>\n",
       "      <td>228173.610336</td>\n",
       "      <td>270132.472523</td>\n",
       "      <td>264225.822817</td>\n",
       "    </tr>\n",
       "    <tr>\n",
       "      <th>44332</th>\n",
       "      <td>246427.0</td>\n",
       "      <td>150739.954684</td>\n",
       "      <td>103505.565725</td>\n",
       "      <td>219493.657189</td>\n",
       "      <td>184258.353066</td>\n",
       "    </tr>\n",
       "    <tr>\n",
       "      <th>21552</th>\n",
       "      <td>638000.0</td>\n",
       "      <td>536308.629002</td>\n",
       "      <td>579241.197211</td>\n",
       "      <td>559928.659516</td>\n",
       "      <td>562760.081133</td>\n",
       "    </tr>\n",
       "    <tr>\n",
       "      <th>21019</th>\n",
       "      <td>117407.0</td>\n",
       "      <td>281631.092174</td>\n",
       "      <td>265006.180524</td>\n",
       "      <td>283092.332215</td>\n",
       "      <td>293372.569808</td>\n",
       "    </tr>\n",
       "    <tr>\n",
       "      <th>38671</th>\n",
       "      <td>73174.0</td>\n",
       "      <td>298573.160074</td>\n",
       "      <td>285910.226699</td>\n",
       "      <td>294293.314806</td>\n",
       "      <td>307893.907807</td>\n",
       "    </tr>\n",
       "  </tbody>\n",
       "</table>\n",
       "</div>"
      ],
      "text/plain": [
       "         actual      simple_lm   multiple_rfe  polynomial degree 2  \\\n",
       "32004   23350.0  182438.017207  228173.610336        270132.472523   \n",
       "44332  246427.0  150739.954684  103505.565725        219493.657189   \n",
       "21552  638000.0  536308.629002  579241.197211        559928.659516   \n",
       "21019  117407.0  281631.092174  265006.180524        283092.332215   \n",
       "38671   73174.0  298573.160074  285910.226699        294293.314806   \n",
       "\n",
       "       polynomial only interaction  \n",
       "32004                264225.822817  \n",
       "44332                184258.353066  \n",
       "21552                562760.081133  \n",
       "21019                293372.569808  \n",
       "38671                307893.907807  "
      ]
     },
     "execution_count": 39,
     "metadata": {},
     "output_type": "execute_result"
    }
   ],
   "source": [
    "poly = PolynomialFeatures(degree=2, include_bias=False, interaction_only=True)\n",
    "poly.fit(x_train_scaled_df)\n",
    "x_train_poly = pd.DataFrame(\n",
    "    poly.transform(x_train_scaled_df),\n",
    "    columns=poly.get_feature_names(x_train_scaled_df.columns),\n",
    "    index=x_train_scaled_df.index,\n",
    ")\n",
    "lm = LinearRegression()\n",
    "lm.fit(x_train_poly, y_train)\n",
    "\n",
    "x_validate_poly = poly.transform(x_validate_scaled_df)\n",
    "predictions['polynomial only interaction'] = lm.predict(x_validate_poly)\n",
    "predictions.head()"
   ]
  },
  {
   "cell_type": "code",
   "execution_count": 40,
   "id": "69999e20",
   "metadata": {},
   "outputs": [
    {
     "data": {
      "text/html": [
       "<div>\n",
       "<style scoped>\n",
       "    .dataframe tbody tr th:only-of-type {\n",
       "        vertical-align: middle;\n",
       "    }\n",
       "\n",
       "    .dataframe tbody tr th {\n",
       "        vertical-align: top;\n",
       "    }\n",
       "\n",
       "    .dataframe thead th {\n",
       "        text-align: right;\n",
       "    }\n",
       "</style>\n",
       "<table border=\"1\" class=\"dataframe\">\n",
       "  <thead>\n",
       "    <tr style=\"text-align: right;\">\n",
       "      <th></th>\n",
       "      <th>actual</th>\n",
       "      <th>simple_lm</th>\n",
       "      <th>multiple_rfe</th>\n",
       "      <th>polynomial degree 2</th>\n",
       "      <th>polynomial only interaction</th>\n",
       "      <th>baseline</th>\n",
       "    </tr>\n",
       "  </thead>\n",
       "  <tbody>\n",
       "    <tr>\n",
       "      <th>32004</th>\n",
       "      <td>23350.0</td>\n",
       "      <td>182438.017207</td>\n",
       "      <td>228173.610336</td>\n",
       "      <td>270132.472523</td>\n",
       "      <td>264225.822817</td>\n",
       "      <td>432129.104102</td>\n",
       "    </tr>\n",
       "    <tr>\n",
       "      <th>44332</th>\n",
       "      <td>246427.0</td>\n",
       "      <td>150739.954684</td>\n",
       "      <td>103505.565725</td>\n",
       "      <td>219493.657189</td>\n",
       "      <td>184258.353066</td>\n",
       "      <td>432129.104102</td>\n",
       "    </tr>\n",
       "    <tr>\n",
       "      <th>21552</th>\n",
       "      <td>638000.0</td>\n",
       "      <td>536308.629002</td>\n",
       "      <td>579241.197211</td>\n",
       "      <td>559928.659516</td>\n",
       "      <td>562760.081133</td>\n",
       "      <td>432129.104102</td>\n",
       "    </tr>\n",
       "    <tr>\n",
       "      <th>21019</th>\n",
       "      <td>117407.0</td>\n",
       "      <td>281631.092174</td>\n",
       "      <td>265006.180524</td>\n",
       "      <td>283092.332215</td>\n",
       "      <td>293372.569808</td>\n",
       "      <td>432129.104102</td>\n",
       "    </tr>\n",
       "    <tr>\n",
       "      <th>38671</th>\n",
       "      <td>73174.0</td>\n",
       "      <td>298573.160074</td>\n",
       "      <td>285910.226699</td>\n",
       "      <td>294293.314806</td>\n",
       "      <td>307893.907807</td>\n",
       "      <td>432129.104102</td>\n",
       "    </tr>\n",
       "  </tbody>\n",
       "</table>\n",
       "</div>"
      ],
      "text/plain": [
       "         actual      simple_lm   multiple_rfe  polynomial degree 2  \\\n",
       "32004   23350.0  182438.017207  228173.610336        270132.472523   \n",
       "44332  246427.0  150739.954684  103505.565725        219493.657189   \n",
       "21552  638000.0  536308.629002  579241.197211        559928.659516   \n",
       "21019  117407.0  281631.092174  265006.180524        283092.332215   \n",
       "38671   73174.0  298573.160074  285910.226699        294293.314806   \n",
       "\n",
       "       polynomial only interaction       baseline  \n",
       "32004                264225.822817  432129.104102  \n",
       "44332                184258.353066  432129.104102  \n",
       "21552                562760.081133  432129.104102  \n",
       "21019                293372.569808  432129.104102  \n",
       "38671                307893.907807  432129.104102  "
      ]
     },
     "execution_count": 40,
     "metadata": {},
     "output_type": "execute_result"
    }
   ],
   "source": [
    "predictions['baseline'] = train.taxvaluedollarcnt.mean()\n",
    "predictions.head()"
   ]
  },
  {
   "cell_type": "code",
   "execution_count": 41,
   "id": "afcc2bc3",
   "metadata": {},
   "outputs": [
    {
     "data": {
      "text/plain": [
       "actual                         0.000000e+00\n",
       "simple_lm                      3.580679e+11\n",
       "multiple_rfe                   3.476296e+11\n",
       "polynomial degree 2            3.121204e+11\n",
       "polynomial only interaction    3.027980e+11\n",
       "baseline                       5.145928e+11\n",
       "dtype: float64"
      ]
     },
     "execution_count": 41,
     "metadata": {},
     "output_type": "execute_result"
    }
   ],
   "source": [
    "def calculate_mse(y_predicted):\n",
    "    return mean_squared_error(predictions.actual, y_predicted)\n",
    "\n",
    "predictions.apply(calculate_mse)"
   ]
  },
  {
   "cell_type": "code",
   "execution_count": 42,
   "id": "856d2e09",
   "metadata": {},
   "outputs": [],
   "source": [
    "import math "
   ]
  },
  {
   "cell_type": "code",
   "execution_count": 43,
   "id": "4ac64a9e",
   "metadata": {},
   "outputs": [
    {
     "data": {
      "text/plain": [
       "actual                              0.000000\n",
       "simple_lm                      598387.779837\n",
       "multiple_rfe                   589601.189293\n",
       "polynomial degree 2            558677.387305\n",
       "polynomial only interaction    550270.829353\n",
       "baseline                       717351.221095\n",
       "dtype: float64"
      ]
     },
     "execution_count": 43,
     "metadata": {},
     "output_type": "execute_result"
    }
   ],
   "source": [
    "predictions.apply(calculate_mse).apply(math.sqrt)"
   ]
  },
  {
   "cell_type": "code",
   "execution_count": null,
   "id": "aea3a73b",
   "metadata": {},
   "outputs": [],
   "source": []
  }
 ],
 "metadata": {
  "kernelspec": {
   "display_name": "Python 3 (ipykernel)",
   "language": "python",
   "name": "python3"
  },
  "language_info": {
   "codemirror_mode": {
    "name": "ipython",
    "version": 3
   },
   "file_extension": ".py",
   "mimetype": "text/x-python",
   "name": "python",
   "nbconvert_exporter": "python",
   "pygments_lexer": "ipython3",
   "version": "3.9.7"
  }
 },
 "nbformat": 4,
 "nbformat_minor": 5
}
